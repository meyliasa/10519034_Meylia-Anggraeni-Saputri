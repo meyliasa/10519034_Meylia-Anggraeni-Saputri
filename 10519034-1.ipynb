{
 "cells": [
  {
   "cell_type": "code",
   "execution_count": null,
   "id": "8394302b",
   "metadata": {},
   "outputs": [],
   "source": [
    "x=5\n",
    "y=6\n",
    "z=x+y\n",
    "print(z)"
   ]
  },
  {
   "cell_type": "code",
   "execution_count": null,
   "id": "6f9062a0",
   "metadata": {},
   "outputs": [],
   "source": [
    "x='Ani'\n",
    "y='Zahra'\n",
    "z=x+y\n",
    "print(z)"
   ]
  },
  {
   "cell_type": "code",
   "execution_count": null,
   "id": "0d14b0f6",
   "metadata": {},
   "outputs": [],
   "source": [
    "x='Ani'\n",
    "y='Zahra'\n",
    "z=x+y\n",
    "print(z)"
   ]
  },
  {
   "cell_type": "code",
   "execution_count": null,
   "id": "51393a55",
   "metadata": {},
   "outputs": [],
   "source": [
    "x=input(5)\n",
    "y=input(6)\n",
    "z=x+y\n",
    "print(z)"
   ]
  },
  {
   "cell_type": "code",
   "execution_count": null,
   "id": "3f343f18",
   "metadata": {},
   "outputs": [],
   "source": [
    "x=int(input(5))\n",
    "y=int(input(6))\n",
    "z=x+y\n",
    "print(z)"
   ]
  },
  {
   "cell_type": "code",
   "execution_count": null,
   "id": "77a84604",
   "metadata": {},
   "outputs": [],
   "source": [
    "x='Ani'\n",
    "y='Zahra'\n",
    "z=x+y\n",
    "print(z)"
   ]
  },
  {
   "cell_type": "code",
   "execution_count": null,
   "id": "a24e4b92",
   "metadata": {},
   "outputs": [],
   "source": [
    "x=1\n",
    "y=2\n",
    "z=x+y\n",
    "print(z)"
   ]
  },
  {
   "cell_type": "code",
   "execution_count": null,
   "id": "963e82d3",
   "metadata": {},
   "outputs": [],
   "source": [
    "for i in range"
   ]
  },
  {
   "cell_type": "code",
   "execution_count": null,
   "id": "7e5943f1",
   "metadata": {},
   "outputs": [],
   "source": [
    "for i in range(10)\n",
    "print('Ayah Ibu')"
   ]
  },
  {
   "cell_type": "code",
   "execution_count": null,
   "id": "bab3c74a",
   "metadata": {},
   "outputs": [],
   "source": [
    "for i in range (10):\n",
    "print('Ayah Ibu')"
   ]
  },
  {
   "cell_type": "code",
   "execution_count": null,
   "id": "8e1e66e9",
   "metadata": {},
   "outputs": [],
   "source": [
    "for I in range (10):\n",
    "    print(\"Ayah Ibu\")"
   ]
  },
  {
   "cell_type": "code",
   "execution_count": null,
   "id": "020fea40",
   "metadata": {},
   "outputs": [],
   "source": [
    "while (1 + 2 == 3):\n",
    "    print(\"Ayah ibu\")"
   ]
  },
  {
   "cell_type": "code",
   "execution_count": null,
   "id": "94084f48",
   "metadata": {},
   "outputs": [],
   "source": [
    "i=1\n",
    "while i <= 5:\n",
    "    print(i)\n",
    "    i+=1"
   ]
  },
  {
   "cell_type": "code",
   "execution_count": null,
   "id": "79971731",
   "metadata": {},
   "outputs": [],
   "source": [
    "x=5\n",
    "y=6\n",
    "if x<y:\n",
    "    print('ok')\n",
    "else:\n",
    "    print('not ok')"
   ]
  },
  {
   "cell_type": "code",
   "execution_count": 2,
   "id": "5f89f0ef",
   "metadata": {},
   "outputs": [
    {
     "ename": "SyntaxError",
     "evalue": "invalid syntax (2943274657.py, line 4)",
     "output_type": "error",
     "traceback": [
      "\u001b[1;36m  Input \u001b[1;32mIn [2]\u001b[1;36m\u001b[0m\n\u001b[1;33m    elif:\u001b[0m\n\u001b[1;37m        ^\u001b[0m\n\u001b[1;31mSyntaxError\u001b[0m\u001b[1;31m:\u001b[0m invalid syntax\n"
     ]
    }
   ],
   "source": [
    "x=input(75)\n",
    "if x>80:\n",
    "    print('A')\n",
    "elif:\n",
    "    x>70:\n",
    "        print('B')\n",
    "elif:\n",
    "    x>60:\n",
    "        print('C')"
   ]
  },
  {
   "cell_type": "code",
   "execution_count": 3,
   "id": "eeab088f",
   "metadata": {},
   "outputs": [
    {
     "ename": "SyntaxError",
     "evalue": "invalid syntax (1791711596.py, line 4)",
     "output_type": "error",
     "traceback": [
      "\u001b[1;36m  Input \u001b[1;32mIn [3]\u001b[1;36m\u001b[0m\n\u001b[1;33m    elif:\u001b[0m\n\u001b[1;37m        ^\u001b[0m\n\u001b[1;31mSyntaxError\u001b[0m\u001b[1;31m:\u001b[0m invalid syntax\n"
     ]
    }
   ],
   "source": [
    "x=input()\n",
    "if x>80:\n",
    "    print('A')\n",
    "elif:\n",
    "    x>70:\n",
    "        print('B')\n",
    "elif:\n",
    "    x>60:\n",
    "        print('C')\n",
    "elif:\n",
    "    x>50:\n",
    "        print('D')\n",
    "elif:\n",
    "    x<50\n",
    "        print('E)"
   ]
  },
  {
   "cell_type": "code",
   "execution_count": 9,
   "id": "1b9a6eea",
   "metadata": {},
   "outputs": [
    {
     "name": "stdout",
     "output_type": "stream",
     "text": [
      "32\n",
      "E\n"
     ]
    }
   ],
   "source": [
    "x=int(input())\n",
    "if x>=80:\n",
    "    print('A')\n",
    "elif x>=70:\n",
    "    print('B')      \n",
    "elif x>=60:\n",
    "    print('C')\n",
    "elif x>=50:\n",
    "    print('D')\n",
    "elif x<50:\n",
    "     print('E')"
   ]
  },
  {
   "cell_type": "code",
   "execution_count": 10,
   "id": "7033e61e",
   "metadata": {},
   "outputs": [
    {
     "name": "stdout",
     "output_type": "stream",
     "text": [
      "Anggur\n",
      "Jeruk\n",
      "pisang\n",
      "Anggur\n",
      "Jeruk\n",
      "pisang\n"
     ]
    }
   ],
   "source": [
    "dlist=['Anggur','Jeruk','pisang']\n",
    "print(dlist [0])\n",
    "print(dlist [1])\n",
    "print(dlist [2])\n",
    "for x in dlist:\n",
    "    print(x)"
   ]
  },
  {
   "cell_type": "code",
   "execution_count": 12,
   "id": "09d7c132",
   "metadata": {},
   "outputs": [
    {
     "name": "stdout",
     "output_type": "stream",
     "text": [
      "(1, 2, 3)\n",
      "(4, 5, 6)\n"
     ]
    }
   ],
   "source": [
    "xarr=[(1,2,3),(4,5,6)]\n",
    "print(xarr[0])\n",
    "print(xarr[1])"
   ]
  },
  {
   "cell_type": "code",
   "execution_count": 13,
   "id": "7a91cf01",
   "metadata": {},
   "outputs": [
    {
     "name": "stdout",
     "output_type": "stream",
     "text": [
      "(1, 2, 3)\n"
     ]
    }
   ],
   "source": [
    "xa=[(1,2,3),(4,5,6),(7,8,9),(10,11,12)]\n",
    "print(xa[0])"
   ]
  },
  {
   "cell_type": "code",
   "execution_count": 18,
   "id": "3a4fc047",
   "metadata": {},
   "outputs": [
    {
     "name": "stdout",
     "output_type": "stream",
     "text": [
      "((1, 2, 3), (4, 5, 6))\n",
      "((7, 8, 9), (10, 11, 12))\n"
     ]
    }
   ],
   "source": [
    "xa=[((1,2,3),(4,5,6)),((7,8,9),(10,11,12))]\n",
    "print(xa[0])\n",
    "print(xa[1])"
   ]
  },
  {
   "cell_type": "code",
   "execution_count": null,
   "id": "425fa248",
   "metadata": {},
   "outputs": [],
   "source": []
  }
 ],
 "metadata": {
  "kernelspec": {
   "display_name": "Python 3 (ipykernel)",
   "language": "python",
   "name": "python3"
  },
  "language_info": {
   "codemirror_mode": {
    "name": "ipython",
    "version": 3
   },
   "file_extension": ".py",
   "mimetype": "text/x-python",
   "name": "python",
   "nbconvert_exporter": "python",
   "pygments_lexer": "ipython3",
   "version": "3.9.12"
  }
 },
 "nbformat": 4,
 "nbformat_minor": 5
}
